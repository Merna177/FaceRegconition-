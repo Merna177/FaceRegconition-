{
  "nbformat": 4,
  "nbformat_minor": 0,
  "metadata": {
    "colab": {
      "name": "PCA-Assignment1",
      "version": "0.3.2",
      "provenance": [],
      "collapsed_sections": []
    },
    "kernelspec": {
      "display_name": "Python 3",
      "language": "python",
      "name": "python3"
    }
  },
  "cells": [
    {
      "metadata": {
        "id": "0MEO0gAu7Gfw",
        "colab_type": "text"
      },
      "cell_type": "markdown",
      "source": [
        "# **1. Download the dataset and understand the format**"
      ]
    },
    {
      "metadata": {
        "id": "jfpb6IjuD77c",
        "colab_type": "code",
        "outputId": "7566e90c-7ff4-41ad-8c69-5006501ba89f",
        "colab": {
          "resources": {
            "http://localhost:8080/nbextensions/google.colab/files.js": {
              "data": "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",
              "ok": true,
              "headers": [
                [
                  "content-type",
                  "application/javascript"
                ]
              ],
              "status": 200,
              "status_text": ""
            }
          },
          "base_uri": "https://localhost:8080/",
          "height": 75
        }
      },
      "cell_type": "code",
      "source": [
        "from google.colab import files\n",
        "uploaded = files.upload()\n"
      ],
      "execution_count": 3,
      "outputs": [
        {
          "output_type": "display_data",
          "data": {
            "text/html": [
              "\n",
              "     <input type=\"file\" id=\"files-9e2366c1-86f1-4c96-9719-ccec4a282f1e\" name=\"files[]\" multiple disabled />\n",
              "     <output id=\"result-9e2366c1-86f1-4c96-9719-ccec4a282f1e\">\n",
              "      Upload widget is only available when the cell has been executed in the\n",
              "      current browser session. Please rerun this cell to enable.\n",
              "      </output>\n",
              "      <script src=\"/nbextensions/google.colab/files.js\"></script> "
            ],
            "text/plain": [
              "<IPython.core.display.HTML object>"
            ]
          },
          "metadata": {
            "tags": []
          }
        },
        {
          "output_type": "stream",
          "text": [
            "Saving dataSet.tar.gz to dataSet.tar (1).gz\n"
          ],
          "name": "stdout"
        }
      ]
    },
    {
      "metadata": {
        "id": "669I12NPGNoP",
        "colab_type": "code",
        "colab": {}
      },
      "cell_type": "code",
      "source": [
        "import tarfile\n",
        "tf = tarfile.open(\"dataSet.tar.gz\")\n",
        "tf.extractall()"
      ],
      "execution_count": 0,
      "outputs": []
    },
    {
      "metadata": {
        "id": "HBXsLmes8FeI",
        "colab_type": "text"
      },
      "cell_type": "markdown",
      "source": [
        "# **2. Generate the Data Matrix and the Label vector **"
      ]
    },
    {
      "metadata": {
        "id": "b2trHABRDidv",
        "colab_type": "code",
        "outputId": "e10c65a5-15f3-4826-919c-119ec9ba80ea",
        "colab": {
          "base_uri": "https://localhost:8080/",
          "height": 35
        }
      },
      "cell_type": "code",
      "source": [
        "# reading the dataset\n",
        "# pgm -> Portable Gray Map\n",
        "from matplotlib import pyplot as plt\n",
        "import numpy as np\n",
        "\n",
        "path = \"orl_faces/\"\n",
        "D = []\n",
        "label = []\n",
        "for i in range(1,41):   \n",
        "    for j in range(1,11):\n",
        "        img = plt.imread(path+\"/s\"+str(i)+\"/\"+str(j)+\".pgm\")\n",
        "        #plt.imshow(img)\n",
        "        D.append(np.array(img).flatten())\n",
        "        label.append(i-1) \n",
        "        \n",
        "D = np.matrix(D) \n",
        "label = np.array(label)\n",
        "print(D.shape)"
      ],
      "execution_count": 5,
      "outputs": [
        {
          "output_type": "stream",
          "text": [
            "(400, 10304)\n"
          ],
          "name": "stdout"
        }
      ]
    },
    {
      "metadata": {
        "id": "Fe5WnJH68ImW",
        "colab_type": "text"
      },
      "cell_type": "markdown",
      "source": [
        "# 3. Split the Dataset into Training and Test sets (10 Points)"
      ]
    },
    {
      "metadata": {
        "id": "NoSjLtaLDid2",
        "colab_type": "code",
        "colab": {}
      },
      "cell_type": "code",
      "source": [
        "#Split the Dataset into Training and Test sets\n",
        "train_vector = D[1::2,:]\n",
        "train_label = label[1::2]\n",
        "test_vector = D[0::2,:]\n",
        "test_label = label[0::2]"
      ],
      "execution_count": 0,
      "outputs": []
    },
    {
      "metadata": {
        "id": "npj7IxMGhM3q",
        "colab_type": "text"
      },
      "cell_type": "markdown",
      "source": [
        "# 4. PCA"
      ]
    },
    {
      "metadata": {
        "id": "Mstc9PGes29u",
        "colab_type": "text"
      },
      "cell_type": "markdown",
      "source": [
        "# 1 & 2 &3 Compute the mean and centered data at zero & covariance\n",
        "\n",
        "\n",
        "\n",
        "\n",
        "---\n",
        "\n",
        "\n",
        "\n"
      ]
    },
    {
      "metadata": {
        "id": "M8s1kDedhSkt",
        "colab_type": "code",
        "outputId": "22ee5856-a4c5-4d86-f013-9eb3ccd19b6b",
        "colab": {
          "base_uri": "https://localhost:8080/",
          "height": 260
        }
      },
      "cell_type": "code",
      "source": [
        "meanPCA =(np.mean(train_vector,axis=0))\n",
        "print(meanPCA)\n",
        "Z_PCA = np.subtract(train_vector,meanPCA)\n",
        "from sklearn.preprocessing import StandardScaler\n",
        "scaler = StandardScaler()\n",
        "scaler.fit(Z_PCA)\n",
        "scaler.transform(Z_PCA)\n",
        "test_centered_data = np.subtract(test_vector,meanPCA)\n",
        "scaler.transform(test_centered_data)\n",
        "sigma_PCA = np.matmul(np.transpose(Z_PCA),Z_PCA)\n",
        "sigma_PCA = (1/len(Z_PCA)) * sigma_PCA\n",
        "print(sigma_PCA)"
      ],
      "execution_count": 7,
      "outputs": [
        {
          "output_type": "stream",
          "text": [
            "[[85.12  84.89  85.165 ... 77.24  74.335 73.37 ]]\n",
            "[[1318.8756   1299.2282   1304.6652   ... -235.7588   -126.0752\n",
            "   -75.5394  ]\n",
            " [1299.2282   1295.5879   1293.30315  ... -218.1036   -112.70315\n",
            "   -64.3043  ]\n",
            " [1304.6652   1293.30315  1306.107775 ... -216.9946    -99.325275\n",
            "   -49.28605 ]\n",
            " ...\n",
            " [-235.7588   -218.1036   -216.9946   ... 2505.0524   1995.4546\n",
            "  1882.7162  ]\n",
            " [-126.0752   -112.70315   -99.325275 ... 1995.4546   1972.392775\n",
            "  1859.56105 ]\n",
            " [ -75.5394    -64.3043    -49.28605  ... 1882.7162   1859.56105\n",
            "  1968.8831  ]]\n"
          ],
          "name": "stdout"
        }
      ]
    },
    {
      "metadata": {
        "id": "ees7EON9tgRk",
        "colab_type": "text"
      },
      "cell_type": "markdown",
      "source": [
        "# 4 & 5 calculate eigen values and eigen vectors "
      ]
    },
    {
      "metadata": {
        "id": "Ai0FdZM3tg5h",
        "colab_type": "code",
        "outputId": "860e2d95-3435-4f06-bb10-8a8e898c0637",
        "colab": {
          "base_uri": "https://localhost:8080/",
          "height": 52
        }
      },
      "cell_type": "code",
      "source": [
        "eigenvalues_PCA, eigenvectors_PCA = np.linalg.eigh(sigma_PCA)\n",
        "print(eigenvalues_PCA )\n"
      ],
      "execution_count": 8,
      "outputs": [
        {
          "output_type": "stream",
          "text": [
            "[-1.96486090e-09 -1.46217689e-09 -1.06714807e-09 ...  1.06569341e+06\n",
            "  2.14179597e+06  2.76884465e+06]\n"
          ],
          "name": "stdout"
        }
      ]
    },
    {
      "metadata": {
        "id": "7M1DgINl0i18",
        "colab_type": "text"
      },
      "cell_type": "markdown",
      "source": [
        "# 6 & 7 & 8 choose the dimensions for alpha 0.8"
      ]
    },
    {
      "metadata": {
        "id": "MLB0iJAz0p-x",
        "colab_type": "code",
        "outputId": "ee3b7272-a846-43a6-f61f-63716608f896",
        "colab": {
          "base_uri": "https://localhost:8080/",
          "height": 572
        }
      },
      "cell_type": "code",
      "source": [
        "from sklearn.neighbors import KNeighborsClassifier\n",
        "from sklearn.metrics import accuracy_score\n",
        "#for alpha = 0.8\n",
        "alpha_70 =[0.8,0.85,0.9,0.95]\n",
        "for a in alpha:\n",
        "  total_variance = 0\n",
        "  required_variance = 0\n",
        "  for i in range(0,len(eigenvalues_PCA)):\n",
        "    total_variance = total_variance + eigenvalues_PCA[i]\n",
        "\n",
        "    \n",
        "  dimension_required =[]\n",
        "  for i in range(0,len(eigenvalues_PCA)):\n",
        "    required_variance = required_variance+ eigenvalues_PCA[len(eigenvalues_PCA)-i-1]\n",
        "\n",
        "    dimension_required.append(np.array(eigenvectors_PCA[:,len(eigenvalues_PCA)-i-1]).flatten())\n",
        "    if (required_variance/total_variance) >= a:\n",
        "      break\n",
        "  projectedMatrix_PCA = np.matmul(Z_PCA,np.transpose(dimension_required))\n",
        "  projectTest = np.matmul(test_centered_data,np.transpose(dimension_required))\n",
        "\n",
        "  \n",
        "\n",
        "  for k in range(1,8,2):\n",
        "     knn = KNeighborsClassifier(n_neighbors=k, algorithm='auto', weights='distance')\n",
        "     knn.fit(projectedMatrix_PCA,train_label)\n",
        "     predicted_label = knn.predict(projectTest)\n",
        "     correct =0\n",
        "     for i in range(0,len(predicted_label)):\n",
        "        if(predicted_label[i] == test_label[i]):\n",
        "           correct +=1\n",
        "               \n",
        "     print(\"Alpha =  \",a , \"K = \" , k , \"accuracy = \" ,(correct/2),\"\\n\")\n",
        "    "
      ],
      "execution_count": 13,
      "outputs": [
        {
          "output_type": "stream",
          "text": [
            "Alpha =   0.8 K =  1 accuracy =  93.0 \n",
            "\n",
            "Alpha =   0.8 K =  3 accuracy =  91.0 \n",
            "\n",
            "Alpha =   0.8 K =  5 accuracy =  87.5 \n",
            "\n",
            "Alpha =   0.8 K =  7 accuracy =  86.5 \n",
            "\n",
            "Alpha =   0.85 K =  1 accuracy =  94.0 \n",
            "\n",
            "Alpha =   0.85 K =  3 accuracy =  90.5 \n",
            "\n",
            "Alpha =   0.85 K =  5 accuracy =  89.0 \n",
            "\n",
            "Alpha =   0.85 K =  7 accuracy =  86.0 \n",
            "\n",
            "Alpha =   0.9 K =  1 accuracy =  94.5 \n",
            "\n",
            "Alpha =   0.9 K =  3 accuracy =  90.5 \n",
            "\n",
            "Alpha =   0.9 K =  5 accuracy =  89.5 \n",
            "\n",
            "Alpha =   0.9 K =  7 accuracy =  85.5 \n",
            "\n",
            "Alpha =   0.95 K =  1 accuracy =  93.5 \n",
            "\n",
            "Alpha =   0.95 K =  3 accuracy =  89.5 \n",
            "\n",
            "Alpha =   0.95 K =  5 accuracy =  88.5 \n",
            "\n",
            "Alpha =   0.95 K =  7 accuracy =  86.5 \n",
            "\n"
          ],
          "name": "stdout"
        }
      ]
    },
    {
      "metadata": {
        "id": "NeL01dy7SZVF",
        "colab_type": "text"
      },
      "cell_type": "markdown",
      "source": [
        "# BONUS"
      ]
    },
    {
      "metadata": {
        "id": "l_06RC1eUAIa",
        "colab_type": "code",
        "colab": {}
      },
      "cell_type": "code",
      "source": [
        "#Split the Dataset into Training and Test sets\n",
        "#Split the Dataset into Training and Test sets\n",
        "train_vector_70 = []\n",
        "train_label_70 = []\n",
        "test_vector_70 = []\n",
        "test_label_70 = []\n",
        "for i in range(0,40):\n",
        "  train_vector_70.append(D[i*10:i*10+7])\n",
        "  test_vector_70.append(D[i*10+7:i*10+10])\n",
        "  train_label_70.append(label[i*10:i*10+7])\n",
        "  test_label_70.append(label[i*10+7:i*10+10])\n",
        "\n",
        "train_label_70 = np.array(train_label_70).flatten()\n",
        "train_vector_70 = np.array(train_vector_70).reshape(280,10304)\n",
        "test_label_70 = np.array(test_label_70).flatten()\n",
        "test_vector_70 = np.array(test_vector_70).reshape(120,10304)"
      ],
      "execution_count": 0,
      "outputs": []
    },
    {
      "metadata": {
        "id": "JCDAt-w6a57-",
        "colab_type": "text"
      },
      "cell_type": "markdown",
      "source": [
        "# 1 & 2 &3 Compute the mean and centered data at zero & covariance\n"
      ]
    },
    {
      "metadata": {
        "id": "WU9T-YrIbRDh",
        "colab_type": "code",
        "outputId": "650ccf42-ef7c-4ed5-bdb0-4e97d2553411",
        "colab": {
          "base_uri": "https://localhost:8080/",
          "height": 243
        }
      },
      "cell_type": "code",
      "source": [
        "meanPCA_70 =(np.mean(train_vector_70,axis=0))\n",
        "Z_PCA_70 = np.subtract(train_vector_70,meanPCA_70)\n",
        "from sklearn.preprocessing import StandardScaler\n",
        "scaler = StandardScaler()\n",
        "scaler.fit(Z_PCA_70)\n",
        "scaler.transform(Z_PCA_70)\n",
        "test_centered_data_70 = np.subtract(test_vector_70,meanPCA_70)\n",
        "scaler.transform(test_centered_data_70)\n",
        "sigma_PCA_70 = np.matmul(np.transpose(Z_PCA_70),Z_PCA_70)\n",
        "sigma_PCA_70 = (1/len(Z_PCA_70)) * sigma_PCA_70\n",
        "print(sigma_PCA_70)"
      ],
      "execution_count": 15,
      "outputs": [
        {
          "output_type": "stream",
          "text": [
            "[[1267.49917092 1256.57493622 1253.02442602 ... -140.0002551\n",
            "  -106.5653699   -31.9002551 ]\n",
            " [1256.57493622 1263.58131378 1254.41753827 ... -128.58903061\n",
            "   -97.08909439  -26.49260204]\n",
            " [1253.02442602 1254.41753827 1261.3621301  ... -141.4519898\n",
            "  -106.9311352   -40.87270408]\n",
            " ...\n",
            " [-140.0002551  -128.58903061 -141.4519898  ... 2116.91959184\n",
            "  1902.00505102 1721.19744898]\n",
            " [-106.5653699   -97.08909439 -106.9311352  ... 1902.00505102\n",
            "  1949.46825255 1776.56862245]\n",
            " [ -31.9002551   -26.49260204  -40.87270408 ... 1721.19744898\n",
            "  1776.56862245 1838.76530612]]\n"
          ],
          "name": "stdout"
        }
      ]
    },
    {
      "metadata": {
        "id": "3Us44iPob7MV",
        "colab_type": "text"
      },
      "cell_type": "markdown",
      "source": [
        "# 4 & 5 calculate eigen values and eigen vectors "
      ]
    },
    {
      "metadata": {
        "id": "8FYAPxDQb8ca",
        "colab_type": "code",
        "outputId": "a89163d7-2e51-4530-8e27-ade24830ac8e",
        "colab": {
          "base_uri": "https://localhost:8080/",
          "height": 52
        }
      },
      "cell_type": "code",
      "source": [
        "eigenvalues_PCA_70, eigenvectors_PCA_70 = np.linalg.eigh(sigma_PCA_70)\n",
        "print(eigenvalues_PCA_70 )\n"
      ],
      "execution_count": 16,
      "outputs": [
        {
          "output_type": "stream",
          "text": [
            "[-2.44665881e-09 -1.88958175e-09 -1.04351033e-09 ...  1.13179252e+06\n",
            "  2.03423818e+06  2.92654670e+06]\n"
          ],
          "name": "stdout"
        }
      ]
    },
    {
      "metadata": {
        "id": "8DAy_UK7cFsb",
        "colab_type": "text"
      },
      "cell_type": "markdown",
      "source": [
        "# 6 & 7 & 8 choose the dimensions for alpha 0.8\n"
      ]
    },
    {
      "metadata": {
        "id": "6_oJ1L2tcEFX",
        "colab_type": "code",
        "outputId": "fb55007a-4c7c-4431-c25c-81ac567dd2cd",
        "colab": {
          "base_uri": "https://localhost:8080/",
          "height": 849
        }
      },
      "cell_type": "code",
      "source": [
        "from sklearn.neighbors import KNeighborsClassifier\n",
        "from sklearn.metrics import accuracy_score\n",
        "#for alpha = 0.8\n",
        "alpha_70 =[0.8,0.85,0.9,0.95]\n",
        "for a in alpha:\n",
        "  total_variance_70 = 0\n",
        "  required_variance_70 = 0\n",
        "  for i in range(0,len(eigenvalues_PCA_70)):\n",
        "    total_variance_70 = total_variance_70 + eigenvalues_PCA_70[i]\n",
        "\n",
        "    \n",
        "  dimension_required_70 =[]\n",
        "  for i in range(0,len(eigenvalues_PCA_70)):\n",
        "    required_variance_70 = required_variance_70+ eigenvalues_PCA_70[len(eigenvalues_PCA_70)-i-1]\n",
        "\n",
        "    dimension_required_70.append(np.array(eigenvectors_PCA_70[:,len(eigenvalues_PCA_70)-i-1]).flatten())\n",
        "    if (required_variance_70/total_variance_70) >= a:\n",
        "      break\n",
        "  projectedMatrix_PCA_70 = np.matmul(Z_PCA_70,np.transpose(dimension_required_70))\n",
        "  projectTest_70 = np.matmul(test_centered_data_70,np.transpose(dimension_required_70))\n",
        "\n",
        "  \n",
        "\n",
        "  for k in range(1,8,2):\n",
        "     knn_70 = KNeighborsClassifier(n_neighbors=k, algorithm='auto', weights='distance')\n",
        "     knn_70.fit(projectedMatrix_PCA_70,train_label_70)\n",
        "     predicted_label = knn_70.predict(projectTest_70)\n",
        "     correct_70 =0\n",
        "     for i in range(0,len(predicted_label)):\n",
        "        if(predicted_label[i] == test_label_70[i]):\n",
        "           correct_70 +=1\n",
        "               \n",
        "     print(\"Alpha =  \",a , \"K = \" , k , \"accuracy = \" ,(correct_70/120)*100,\"\\n\")\n",
        "    "
      ],
      "execution_count": 0,
      "outputs": [
        {
          "output_type": "stream",
          "text": [
            "120\n",
            "Alpha =   0.8 K =  1 accuracy =  95.83333333333334 \n",
            "\n",
            "120\n",
            "Alpha =   0.8 K =  3 accuracy =  94.16666666666667 \n",
            "\n",
            "120\n",
            "Alpha =   0.8 K =  5 accuracy =  93.33333333333333 \n",
            "\n",
            "120\n",
            "Alpha =   0.8 K =  7 accuracy =  92.5 \n",
            "\n",
            "120\n",
            "Alpha =   0.85 K =  1 accuracy =  96.66666666666667 \n",
            "\n",
            "120\n",
            "Alpha =   0.85 K =  3 accuracy =  94.16666666666667 \n",
            "\n",
            "120\n",
            "Alpha =   0.85 K =  5 accuracy =  92.5 \n",
            "\n",
            "120\n",
            "Alpha =   0.85 K =  7 accuracy =  92.5 \n",
            "\n",
            "120\n",
            "Alpha =   0.9 K =  1 accuracy =  96.66666666666667 \n",
            "\n",
            "120\n",
            "Alpha =   0.9 K =  3 accuracy =  94.16666666666667 \n",
            "\n",
            "120\n",
            "Alpha =   0.9 K =  5 accuracy =  92.5 \n",
            "\n",
            "120\n",
            "Alpha =   0.9 K =  7 accuracy =  90.83333333333333 \n",
            "\n",
            "120\n",
            "Alpha =   0.95 K =  1 accuracy =  95.0 \n",
            "\n",
            "120\n",
            "Alpha =   0.95 K =  3 accuracy =  93.33333333333333 \n",
            "\n",
            "120\n",
            "Alpha =   0.95 K =  5 accuracy =  92.5 \n",
            "\n",
            "120\n",
            "Alpha =   0.95 K =  7 accuracy =  85.0 \n",
            "\n"
          ],
          "name": "stdout"
        }
      ]
    }
  ]
}